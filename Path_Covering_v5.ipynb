{
 "cells": [
  {
   "cell_type": "code",
   "execution_count": 2,
   "metadata": {},
   "outputs": [],
   "source": [
    "import numpy as np\n",
    "from scipy.interpolate import splprep, splev\n",
    "from shapely.geometry import Polygon, Point\n",
    "import pandas as pd"
   ]
  },
  {
   "cell_type": "code",
   "execution_count": 3,
   "metadata": {},
   "outputs": [],
   "source": [
    "class gloabl_path_coverage:\n",
    "    def __init__(self):\n",
    "        sep = 1\n",
    "        self.file_name = 'obs'\n",
    "        self.longitude_upper_limit = 1*sep\n",
    "        self.latitude_upper_limit = 1*sep\n",
    "        self.limit = 1*sep\n",
    "        \n",
    "        self.points_to_follow = []\n",
    "        self.direction = 'S'\n",
    "        self.count = 0\n",
    "        \n",
    "        self.coordinates = self.load_data()\n",
    "        self.list_of_boundaries = self.list_boundaries(self.coordinates)\n",
    "        self.list_all_polygons = self.list_all_polygons()\n",
    "        \n",
    "        self.minx, self.miny, self.maxx, self.maxy = self.list_all_polygons[0].bounds\n",
    "        self.longs = np.arange(self.minx, self.maxx+self.longitude_upper_limit, self.limit)\n",
    "        self.lats =  np.arange(self.miny, self.maxy+self.latitude_upper_limit, self.limit)\n",
    "        \n",
    "        self.edges = self.calculate_boundary_points(self.list_of_boundaries,self.list_all_polygons,self.longs,self.lats)\n",
    "    \n",
    "        self.current_position = self.edges[0][:]\n",
    "        self.current_position.extend('S')\n",
    "        self.traversed_list = []\n",
    "        self.final_list_waypoint = []\n",
    "        self.move=[[0.,-self.limit , 'S'],[-self.limit,0. , 'W'],[0.,self.limit ,'N'],[self.limit,0 ,'E']]\n",
    "        self.calculate_waypoints()\n",
    "        self.save_points()\n",
    "\n",
    "    def load_data(self):\n",
    "        # DUMMY DATA\n",
    "        df = pd.read_csv(self.file_name, sep=\" \", header=None)\n",
    "        #lsit of points in format [Latitude,Longitude] \n",
    "        coordinates  = df.apply(pd.to_numeric, args=('coerce',)).values\n",
    "        \n",
    "        return coordinates\n",
    "    \n",
    "    def list_boundaries(self,coordinates):\n",
    "        #contains points for farm boundary and each obstacle recorded \n",
    "        list_of_boundaries = []\n",
    "        \n",
    "        #temp for calculation purpose\n",
    "        boundary = []\n",
    "\n",
    "        # loop to separate points based on boundary from file read (coordinates) and store it into list of boundaries\n",
    "        for i in coordinates:\n",
    "            #if 'X' in i :\n",
    "            if np.isnan(i).any():\n",
    "                list_of_boundaries.append(boundary)\n",
    "                boundary = []\n",
    "                continue\n",
    "            boundary.append(i)\n",
    "            \n",
    "        \n",
    "\n",
    "        return list_of_boundaries\n",
    "    \n",
    "    def list_all_polygons(self):\n",
    "    \n",
    "        # will convert points under list_of_boundaries into indiv polygon and store into list_all_polygons.\n",
    "\n",
    "        ## its one time process\n",
    "    \n",
    "        list_all_polygons =[]\n",
    "\n",
    "        for boundary in self.list_of_boundaries:\n",
    "            points =np.array(boundary)\n",
    "            list_all_polygons.append(Polygon(points))\n",
    "            \n",
    "        return list_all_polygons\n",
    "    \n",
    "    \n",
    "    def calculate_boundary_points(self,list_of_boundaries,list_all_polygons,longs,lats):\n",
    "        edges=[]\n",
    "        for x in range(0,len(longs)):\n",
    "            for y in range(0,len(lats)):\n",
    "                point = Point([longs[x],lats[y]])\n",
    "                if list_all_polygons[0].contains(point) or np.any(np.equal([longs[x],lats[y]] , list_of_boundaries[0]).all(axis=1)):\n",
    "                    if( len(list_all_polygons) > 1):\n",
    "                        flag_poly = True\n",
    "                        for obstacle_poly in list_all_polygons[1:]:\n",
    "                            if obstacle_poly.contains(point):\n",
    "                                flag_poly = False\n",
    "                        if flag_poly:\n",
    "                            edges.append([longs[x],lats[y]])\n",
    "\n",
    "                    else:\n",
    "                        edges.append([longs[x],lats[y]])\n",
    "        return edges\n",
    "    \n",
    "    def list_point_to_follow(self,point):\n",
    "\n",
    "        if len(self.points_to_follow)<1:\n",
    "            self.points_to_follow.append(point)\n",
    "\n",
    "        if point[2] == self.direction:\n",
    "            if self.count > 10:\n",
    "                self.count = 0\n",
    "                self.points_to_follow.append(point)\n",
    "            else:\n",
    "                self.count = self.count+1\n",
    "        else:\n",
    "            self.points_to_follow.append(point)\n",
    "            self.direction = point[2]\n",
    "            self.count = 0\n",
    "            \n",
    "    def move_next(self,current_position):\n",
    "        for i in self.move:\n",
    "            next_x = current_position[0] + i[0]\n",
    "            next_y = current_position[1] + i[1]\n",
    "            theta = i[2]\n",
    "            point = Point(next_x , next_y)\n",
    "            if [next_x , next_y] not in self.traversed_list:\n",
    "                if self.list_all_polygons[0].contains(point) or np.any(np.equal([next_x , next_y] , self.coordinates).all(axis=1)):\n",
    "                    if( len(self.list_all_polygons) > 1):\n",
    "                        flag_poly = True\n",
    "                        for obstacle_poly in self.list_all_polygons[1:]:\n",
    "                            if obstacle_poly.contains(point):\n",
    "                                flag_poly = False\n",
    "                        if flag_poly:\n",
    "                            return [next_x,next_y ,theta]\n",
    "                    else:\n",
    "                        return [next_x,next_y ,theta]\n",
    "        return None\n",
    "    \n",
    "    def calculate_waypoints(self):\n",
    "        while len(self.edges)!=0 :\n",
    "    \n",
    "            if self.current_position == None:\n",
    "                self.current_position = self.edges[0][:]\n",
    "                self.current_position.extend('S')\n",
    "                \n",
    "            point =  self.current_position[:2]\n",
    "            self.edges.remove(point)\n",
    "            self.traversed_list.append(self.current_position[:2])\n",
    "            self.list_point_to_follow(self.current_position)\n",
    "            self.final_list_waypoint.append(self.current_position)\n",
    "            self.current_position = self.move_next(self.current_position)\n",
    "            \n",
    "    def save_points(self):\n",
    "        with open('points_to_follow','w') as f:\n",
    "            for data in self.points_to_follow:\n",
    "                f.write(str(data[0])+';'+str(data[1]))\n",
    "                f.write('\\n')"
   ]
  },
  {
   "cell_type": "code",
   "execution_count": null,
   "metadata": {},
   "outputs": [],
   "source": [
    "    \n",
    "    "
   ]
  },
  {
   "cell_type": "code",
   "execution_count": 4,
   "metadata": {},
   "outputs": [],
   "source": [
    "a = gloabl_path_coverage()"
   ]
  },
  {
   "cell_type": "code",
   "execution_count": 5,
   "metadata": {},
   "outputs": [
    {
     "ename": "NameError",
     "evalue": "name 'plt' is not defined",
     "output_type": "error",
     "traceback": [
      "\u001b[0;31m---------------------------------------------------------------------------\u001b[0m",
      "\u001b[0;31mNameError\u001b[0m                                 Traceback (most recent call last)",
      "\u001b[0;32m<ipython-input-5-3a98a7e37f1c>\u001b[0m in \u001b[0;36m<module>\u001b[0;34m()\u001b[0m\n\u001b[1;32m      1\u001b[0m \u001b[0;32mfor\u001b[0m \u001b[0mboundary\u001b[0m \u001b[0;32min\u001b[0m \u001b[0ma\u001b[0m\u001b[0;34m.\u001b[0m\u001b[0mlist_of_boundaries\u001b[0m\u001b[0;34m:\u001b[0m\u001b[0;34m\u001b[0m\u001b[0m\n\u001b[1;32m      2\u001b[0m     \u001b[0;32mfor\u001b[0m \u001b[0mpoints\u001b[0m \u001b[0;32min\u001b[0m \u001b[0mboundary\u001b[0m\u001b[0;34m:\u001b[0m\u001b[0;34m\u001b[0m\u001b[0m\n\u001b[0;32m----> 3\u001b[0;31m         \u001b[0mplt\u001b[0m\u001b[0;34m.\u001b[0m\u001b[0mplot\u001b[0m\u001b[0;34m(\u001b[0m\u001b[0mpoints\u001b[0m\u001b[0;34m[\u001b[0m\u001b[0;36m0\u001b[0m\u001b[0;34m]\u001b[0m\u001b[0;34m,\u001b[0m\u001b[0mpoints\u001b[0m\u001b[0;34m[\u001b[0m\u001b[0;36m1\u001b[0m\u001b[0;34m]\u001b[0m\u001b[0;34m,\u001b[0m\u001b[0;34m'o'\u001b[0m\u001b[0;34m)\u001b[0m\u001b[0;34m\u001b[0m\u001b[0m\n\u001b[0m\u001b[1;32m      4\u001b[0m \u001b[0mplt\u001b[0m\u001b[0;34m.\u001b[0m\u001b[0mshow\u001b[0m\u001b[0;34m(\u001b[0m\u001b[0;34m)\u001b[0m\u001b[0;34m\u001b[0m\u001b[0m\n",
      "\u001b[0;31mNameError\u001b[0m: name 'plt' is not defined"
     ]
    }
   ],
   "source": [
    "for boundary in a.list_of_boundaries:\n",
    "    for points in boundary:\n",
    "        plt.plot(points[0],points[1],'o')\n",
    "plt.show()"
   ]
  },
  {
   "cell_type": "code",
   "execution_count": 30,
   "metadata": {},
   "outputs": [],
   "source": [
    "\n",
    "#lib required for visualization only\n",
    "import matplotlib.pyplot as plt\n",
    "for boundary in a.list_of_boundaries:\n",
    "    for points in boundary:\n",
    "        plt.plot(points[0],points[1],'o')\n",
    "plt.show()"
   ]
  },
  {
   "cell_type": "code",
   "execution_count": 6,
   "metadata": {},
   "outputs": [
    {
     "data": {
      "text/plain": [
       "329"
      ]
     },
     "execution_count": 6,
     "metadata": {},
     "output_type": "execute_result"
    }
   ],
   "source": [
    "len(a.points_to_follow)"
   ]
  },
  {
   "cell_type": "code",
   "execution_count": 7,
   "metadata": {},
   "outputs": [],
   "source": [
    "test_data=[]\n",
    "for i in a.points_to_follow:\n",
    "    test_data.append(i[:2])"
   ]
  },
  {
   "cell_type": "code",
   "execution_count": 8,
   "metadata": {},
   "outputs": [
    {
     "ename": "NameError",
     "evalue": "name 'plt' is not defined",
     "output_type": "error",
     "traceback": [
      "\u001b[0;31m---------------------------------------------------------------------------\u001b[0m",
      "\u001b[0;31mNameError\u001b[0m                                 Traceback (most recent call last)",
      "\u001b[0;32m<ipython-input-8-100cf010d1b5>\u001b[0m in \u001b[0;36m<module>\u001b[0;34m()\u001b[0m\n\u001b[1;32m     18\u001b[0m \u001b[0myi\u001b[0m \u001b[0;34m=\u001b[0m \u001b[0minterp1d\u001b[0m\u001b[0;34m(\u001b[0m\u001b[0mi\u001b[0m\u001b[0;34m,\u001b[0m \u001b[0my\u001b[0m\u001b[0;34m,\u001b[0m \u001b[0mkind\u001b[0m\u001b[0;34m=\u001b[0m\u001b[0;34m'cubic'\u001b[0m\u001b[0;34m)\u001b[0m\u001b[0;34m(\u001b[0m\u001b[0minterp_i\u001b[0m\u001b[0;34m)\u001b[0m\u001b[0;34m\u001b[0m\u001b[0m\n\u001b[1;32m     19\u001b[0m \u001b[0;34m\u001b[0m\u001b[0m\n\u001b[0;32m---> 20\u001b[0;31m \u001b[0mfig\u001b[0m\u001b[0;34m,\u001b[0m \u001b[0max\u001b[0m \u001b[0;34m=\u001b[0m \u001b[0mplt\u001b[0m\u001b[0;34m.\u001b[0m\u001b[0msubplots\u001b[0m\u001b[0;34m(\u001b[0m\u001b[0;34m)\u001b[0m\u001b[0;34m\u001b[0m\u001b[0m\n\u001b[0m\u001b[1;32m     21\u001b[0m \u001b[0max\u001b[0m\u001b[0;34m.\u001b[0m\u001b[0mplot\u001b[0m\u001b[0;34m(\u001b[0m\u001b[0mxi\u001b[0m\u001b[0;34m,\u001b[0m \u001b[0myi\u001b[0m\u001b[0;34m)\u001b[0m\u001b[0;34m\u001b[0m\u001b[0m\n\u001b[1;32m     22\u001b[0m \u001b[0;31m# ax.plot(x, y, 'ko')\u001b[0m\u001b[0;34m\u001b[0m\u001b[0;34m\u001b[0m\u001b[0m\n",
      "\u001b[0;31mNameError\u001b[0m: name 'plt' is not defined"
     ]
    }
   ],
   "source": [
    "pts = np.array(test_data)\n",
    "# tck, u = splprep(pts.T, u=None, s=0.0, per=1) \n",
    "# u_new = np.linspace(u.min(), u.max(), 1000)\n",
    "# x_new, y_new = splev(u_new, tck, der=0)\n",
    "\n",
    "# #plt.plot(pts[:,0], pts[:,1], 'ro')\n",
    "# plt.plot(x_new, y_new, 'b')\n",
    "# plt.show()\n",
    "\n",
    "from scipy.interpolate import interp1d\n",
    "x, y = pts.T\n",
    "i = np.arange(len(pts))\n",
    "\n",
    "# 5x the original number of points\n",
    "interp_i = np.linspace(0, i.max(), 5 * i.max())\n",
    "\n",
    "xi = interp1d(i, x, kind='cubic')(interp_i)\n",
    "yi = interp1d(i, y, kind='cubic')(interp_i)\n",
    "\n",
    "fig, ax = plt.subplots()\n",
    "ax.plot(xi, yi)\n",
    "# ax.plot(x, y, 'ko')\n",
    "plt.show()"
   ]
  },
  {
   "cell_type": "code",
   "execution_count": 9,
   "metadata": {},
   "outputs": [
    {
     "data": {
      "text/plain": [
       "329"
      ]
     },
     "execution_count": 9,
     "metadata": {},
     "output_type": "execute_result"
    }
   ],
   "source": [
    "len(a.points_to_follow)"
   ]
  },
  {
   "cell_type": "code",
   "execution_count": null,
   "metadata": {},
   "outputs": [],
   "source": []
  }
 ],
 "metadata": {
  "kernelspec": {
   "display_name": "Python 2",
   "language": "python",
   "name": "python2"
  },
  "language_info": {
   "codemirror_mode": {
    "name": "ipython",
    "version": 2
   },
   "file_extension": ".py",
   "mimetype": "text/x-python",
   "name": "python",
   "nbconvert_exporter": "python",
   "pygments_lexer": "ipython2",
   "version": "2.7.6"
  }
 },
 "nbformat": 4,
 "nbformat_minor": 2
}
